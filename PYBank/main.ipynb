{
 "cells": [
  {
   "cell_type": "code",
   "execution_count": 1,
   "metadata": {},
   "outputs": [],
   "source": [
    "import os"
   ]
  },
  {
   "cell_type": "code",
   "execution_count": 2,
   "metadata": {},
   "outputs": [],
   "source": [
    "import csv"
   ]
  },
  {
   "cell_type": "code",
   "execution_count": 3,
   "metadata": {},
   "outputs": [],
   "source": [
    "csvpath = os.path.join('Resources', 'budget_data.csv')"
   ]
  },
  {
   "cell_type": "code",
   "execution_count": 51,
   "metadata": {},
   "outputs": [
    {
     "name": "stdout",
     "output_type": "stream",
     "text": [
      "<_csv.reader object at 0x0000021B05EC25F8>\n"
     ]
    },
    {
     "ename": "TypeError",
     "evalue": "'int' object is not iterable",
     "output_type": "error",
     "traceback": [
      "\u001b[1;31m---------------------------------------------------------------------------\u001b[0m",
      "\u001b[1;31mTypeError\u001b[0m                                 Traceback (most recent call last)",
      "\u001b[1;32m<ipython-input-51-ccbcd058d29c>\u001b[0m in \u001b[0;36m<module>\u001b[1;34m\u001b[0m\n\u001b[0;32m     20\u001b[0m         \u001b[0mavgchange\u001b[0m \u001b[1;33m=\u001b[0m \u001b[1;33m(\u001b[0m\u001b[0mmonthlychange\u001b[0m \u001b[1;33m/\u001b[0m \u001b[1;36m85\u001b[0m\u001b[1;33m)\u001b[0m\u001b[1;33m\u001b[0m\u001b[1;33m\u001b[0m\u001b[0m\n\u001b[0;32m     21\u001b[0m \u001b[1;33m\u001b[0m\u001b[0m\n\u001b[1;32m---> 22\u001b[1;33m         \u001b[0mgreatestincrease\u001b[0m \u001b[1;33m=\u001b[0m \u001b[0mmax\u001b[0m\u001b[1;33m(\u001b[0m\u001b[0mmonthlychange\u001b[0m\u001b[1;33m)\u001b[0m\u001b[1;33m\u001b[0m\u001b[1;33m\u001b[0m\u001b[0m\n\u001b[0m\u001b[0;32m     23\u001b[0m         \u001b[0mgreatestdecrease\u001b[0m \u001b[1;33m=\u001b[0m \u001b[0mmin\u001b[0m\u001b[1;33m(\u001b[0m\u001b[0mmonthlychange\u001b[0m\u001b[1;33m)\u001b[0m\u001b[1;33m\u001b[0m\u001b[1;33m\u001b[0m\u001b[0m\n\u001b[0;32m     24\u001b[0m \u001b[1;33m\u001b[0m\u001b[0m\n",
      "\u001b[1;31mTypeError\u001b[0m: 'int' object is not iterable"
     ]
    }
   ],
   "source": [
    "totalmonths = 0\n",
    "totalpl = 0\n",
    "monthlychange = 0\n",
    "avgchange = 0\n",
    "prevmonth= 867884\n",
    "totalchange = 0\n",
    "counter = 0\n",
    "\n",
    "with open(csvpath, newline='') as csvfile:\n",
    "    csvreader = csv.reader(csvfile, delimiter=',')\n",
    "    print(csvreader)\n",
    "    csv_header = next(csvreader)\n",
    "    \n",
    "    \n",
    "    for i in csvreader:\n",
    "        totalmonths = totalmonths + 1\n",
    "        totalpl = totalpl + int(i[1])\n",
    "        monthlychange = monthlychange + int(i[1]) - prevmonth\n",
    "        prevmonth = int(i[1])\n",
    "        avgchange = (monthlychange / 85)\n",
    "        \n",
    "        greatestincrease = max(monthlychange)\n",
    "        greatestdecrease = min(monthlychange)\n",
    "        \n",
    "    print(f'Total Months : {(totalmonths)}') \n",
    "    print(f'Total : $ {totalpl}')\n",
    "    print(f'Average Change : $ {avgchange}')\n",
    "    print(f'Greatest Increase in Profits :  {greatestincreaseDate} : (${greatestincrease}')\n",
    "    print(f'Greatest Decrease in Profits :  {greatestdecreaseDate} : (${greatestdecrease}')\n",
    "\n",
    "with open(file_to_output,'w') as outputfile:\n",
    "       outputfile.write(f'Financial Analysis'+'\\n')\n",
    "       outputfile.write(f'----------------------------'+'\\n')\n",
    "       outputfile.write(f'Total Months:{totalmonths}' +'\\n')\n",
    "       outputfile.write(f'Total : $ {totalpl}' +'\\n')\n",
    "       outputfile.write(f'Average  Change: $ {avgchange}'+'\\n')\n",
    "       outputfile.write(f'Greatest Increase in Profits: {greatestincreaseDate} : ($ {greatestincrease})'+'\\n')\n",
    "       outputfile.write(f'Greatest Decrease in Profits: {greatestdecreaseDate} : ($ {greatestdecrease})'+'\\n')\n"
   ]
  },
  {
   "cell_type": "code",
   "execution_count": null,
   "metadata": {},
   "outputs": [],
   "source": []
  }
 ],
 "metadata": {
  "kernelspec": {
   "display_name": "Python 3",
   "language": "python",
   "name": "python3"
  },
  "language_info": {
   "codemirror_mode": {
    "name": "ipython",
    "version": 3
   },
   "file_extension": ".py",
   "mimetype": "text/x-python",
   "name": "python",
   "nbconvert_exporter": "python",
   "pygments_lexer": "ipython3",
   "version": "3.7.3"
  }
 },
 "nbformat": 4,
 "nbformat_minor": 4
}
